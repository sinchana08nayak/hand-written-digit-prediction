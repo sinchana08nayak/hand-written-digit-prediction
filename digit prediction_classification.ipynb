{
  "cells": [
    {
      "cell_type": "markdown",
      "metadata": {
        "id": "view-in-github",
        "colab_type": "text"
      },
      "source": [
        "<a href=\"https://colab.research.google.com/github/sinchana08nayak/hand-written-digit-prediction/blob/main/digit%20prediction_classification.ipynb\" target=\"_parent\"><img src=\"https://colab.research.google.com/assets/colab-badge.svg\" alt=\"Open In Colab\"/></a>"
      ]
    },
    {
      "cell_type": "markdown",
      "metadata": {
        "id": "mptQjv76mEzm"
      },
      "source": [
        "### **Hand Written Digit Prediction- Classification Analysis**"
      ]
    },
    {
      "cell_type": "markdown",
      "metadata": {
        "id": "ZcIl6yW0mXJl"
      },
      "source": [
        "The digits dataset consists of 8*8 pixel  images of digits.The images attribute of the dataset stores 8*8 arrays of grayscale values for each image .we will use there arrays to visualize the first 4 images.The target attribute of the dataset stores the digit each image represents\n",
        "\n"
      ]
    },
    {
      "cell_type": "code",
      "execution_count": null,
      "metadata": {
        "id": "xkGEtNuao4i1"
      },
      "outputs": [],
      "source": [
        "import pandas as pd\n"
      ]
    },
    {
      "cell_type": "code",
      "execution_count": null,
      "metadata": {
        "id": "3j22QGL6pOLt"
      },
      "outputs": [],
      "source": [
        "import numpy as np"
      ]
    },
    {
      "cell_type": "code",
      "source": [
        "import matplotlib.pyplot as plt"
      ],
      "metadata": {
        "id": "CHlPeLX1ShOW"
      },
      "execution_count": null,
      "outputs": []
    },
    {
      "cell_type": "code",
      "source": [
        "from sklearn.datasets import load_digits\n"
      ],
      "metadata": {
        "id": "posSEIucHKAa"
      },
      "execution_count": null,
      "outputs": []
    },
    {
      "cell_type": "code",
      "source": [
        "df=load_digits()"
      ],
      "metadata": {
        "id": "TYeWZ9hQLSHN"
      },
      "execution_count": null,
      "outputs": []
    },
    {
      "cell_type": "code",
      "source": [
        "_,axes=plt.subplots(nrows=1,ncols=4,figsize=(10,3))\n",
        "for ax,image,label in zip(axes,df.images,df.target):\n",
        "  ax.set_axis_off()\n",
        "  ax.imshow(image,cmap=plt.cm.gray_r,interpolation=\"nearest\")\n",
        "  ax.set_title(\"Training:%i\"% label)\n",
        "\n"
      ],
      "metadata": {
        "colab": {
          "base_uri": "https://localhost:8080/",
          "height": 227
        },
        "id": "ih8EVFg6LvtB",
        "outputId": "e7e9e072-e90f-4ab8-b4b8-b6e9b14a3a31"
      },
      "execution_count": null,
      "outputs": [
        {
          "output_type": "display_data",
          "data": {
            "text/plain": [
              "<Figure size 1000x300 with 4 Axes>"
            ],
            "image/png": "[encoded data removed]"
          },
          "metadata": {}
        }
      ]
    },
    {
      "cell_type": "markdown",
      "source": [
        "# **Data preprocessing**"
      ],
      "metadata": {
        "id": "Dqe0c0f0JYLh"
      }
    },
    {
      "cell_type": "markdown",
      "source": [
        "Flattern Image"
      ],
      "metadata": {
        "id": "s3FiK-cuJfVn"
      }
    },
    {
      "cell_type": "code",
      "source": [
        "df.images.shape\n"
      ],
      "metadata": {
        "colab": {
          "base_uri": "https://localhost:8080/"
        },
        "id": "pYte7vAYIE8P",
        "outputId": "d1bda009-17a3-4470-d8f0-3a4480fb91d3"
      },
      "execution_count": null,
      "outputs": [
        {
          "output_type": "execute_result",
          "data": {
            "text/plain": [
              "(1797, 8, 8)"
            ]
          },
          "metadata": {},
          "execution_count": 8
        }
      ]
    },
    {
      "cell_type": "code",
      "source": [
        "df.images[0]"
      ],
      "metadata": {
        "colab": {
          "base_uri": "https://localhost:8080/"
        },
        "id": "Mi-9GcccIInR",
        "outputId": "2ccd6a02-a1b8-4480-e2b3-1950babc9a4a"
      },
      "execution_count": null,
      "outputs": [
        {
          "output_type": "execute_result",
          "data": {
            "text/plain": [
              "array([[ 0.,  0.,  5., 13.,  9.,  1.,  0.,  0.],\n",
              "       [ 0.,  0., 13., 15., 10., 15.,  5.,  0.],\n",
              "       [ 0.,  3., 15.,  2.,  0., 11.,  8.,  0.],\n",
              "       [ 0.,  4., 12.,  0.,  0.,  8.,  8.,  0.],\n",
              "       [ 0.,  5.,  8.,  0.,  0.,  9.,  8.,  0.],\n",
              "       [ 0.,  4., 11.,  0.,  1., 12.,  7.,  0.],\n",
              "       [ 0.,  2., 14.,  5., 10., 12.,  0.,  0.],\n",
              "       [ 0.,  0.,  6., 13., 10.,  0.,  0.,  0.]])"
            ]
          },
          "metadata": {},
          "execution_count": 9
        }
      ]
    },
    {
      "cell_type": "code",
      "source": [
        "df.images[0].shape"
      ],
      "metadata": {
        "colab": {
          "base_uri": "https://localhost:8080/"
        },
        "id": "vOMB2FOoIN1X",
        "outputId": "88b84d65-0abc-41d7-e4f4-9f9151e22fb7"
      },
      "execution_count": null,
      "outputs": [
        {
          "output_type": "execute_result",
          "data": {
            "text/plain": [
              "(8, 8)"
            ]
          },
          "metadata": {},
          "execution_count": 10
        }
      ]
    },
    {
      "cell_type": "code",
      "source": [
        "\n",
        "len(df.images)"
      ],
      "metadata": {
        "colab": {
          "base_uri": "https://localhost:8080/"
        },
        "id": "N1YIp-LjIQaR",
        "outputId": "7f8e3372-7843-4f89-ec81-d90fca018347"
      },
      "execution_count": null,
      "outputs": [
        {
          "output_type": "execute_result",
          "data": {
            "text/plain": [
              "1797"
            ]
          },
          "metadata": {},
          "execution_count": 11
        }
      ]
    },
    {
      "cell_type": "code",
      "source": [
        "n_samples=len(df.images)\n",
        "data=df.images.reshape((n_samples,-1))"
      ],
      "metadata": {
        "id": "HXPxNx4eITKo"
      },
      "execution_count": null,
      "outputs": []
    },
    {
      "cell_type": "code",
      "source": [
        "data[0]"
      ],
      "metadata": {
        "colab": {
          "base_uri": "https://localhost:8080/"
        },
        "id": "GGm5rIkQIVx5",
        "outputId": "70f2147f-abd5-47ae-935b-f42de25ac43f"
      },
      "execution_count": null,
      "outputs": [
        {
          "output_type": "execute_result",
          "data": {
            "text/plain": [
              "array([ 0.,  0.,  5., 13.,  9.,  1.,  0.,  0.,  0.,  0., 13., 15., 10.,\n",
              "       15.,  5.,  0.,  0.,  3., 15.,  2.,  0., 11.,  8.,  0.,  0.,  4.,\n",
              "       12.,  0.,  0.,  8.,  8.,  0.,  0.,  5.,  8.,  0.,  0.,  9.,  8.,\n",
              "        0.,  0.,  4., 11.,  0.,  1., 12.,  7.,  0.,  0.,  2., 14.,  5.,\n",
              "       10., 12.,  0.,  0.,  0.,  0.,  6., 13., 10.,  0.,  0.,  0.])"
            ]
          },
          "metadata": {},
          "execution_count": 13
        }
      ]
    },
    {
      "cell_type": "code",
      "source": [
        "\n",
        "data[0].shape"
      ],
      "metadata": {
        "colab": {
          "base_uri": "https://localhost:8080/"
        },
        "id": "O2Mg5JpDIYWS",
        "outputId": "cbbf0b89-19e1-4695-82f4-78cc9f36ca78"
      },
      "execution_count": null,
      "outputs": [
        {
          "output_type": "execute_result",
          "data": {
            "text/plain": [
              "(64,)"
            ]
          },
          "metadata": {},
          "execution_count": 14
        }
      ]
    },
    {
      "cell_type": "code",
      "source": [
        "data.shape"
      ],
      "metadata": {
        "colab": {
          "base_uri": "https://localhost:8080/"
        },
        "id": "UzvJX3_sIbTg",
        "outputId": "4f0bcde4-f8b7-434b-8d0d-6c6112b19a81"
      },
      "execution_count": null,
      "outputs": [
        {
          "output_type": "execute_result",
          "data": {
            "text/plain": [
              "(1797, 64)"
            ]
          },
          "metadata": {},
          "execution_count": 15
        }
      ]
    },
    {
      "cell_type": "markdown",
      "source": [
        "**Scaling Image Data**"
      ],
      "metadata": {
        "id": "kBjdVm1tJ07k"
      }
    },
    {
      "cell_type": "code",
      "source": [
        "\n",
        "\n",
        "data.min()"
      ],
      "metadata": {
        "colab": {
          "base_uri": "https://localhost:8080/"
        },
        "id": "MLAB9zTeIfLI",
        "outputId": "5948261b-9aef-40bd-d3ac-e72802223efb"
      },
      "execution_count": null,
      "outputs": [
        {
          "output_type": "execute_result",
          "data": {
            "text/plain": [
              "0.0"
            ]
          },
          "metadata": {},
          "execution_count": 16
        }
      ]
    },
    {
      "cell_type": "code",
      "source": [
        "\n",
        "data.max()"
      ],
      "metadata": {
        "colab": {
          "base_uri": "https://localhost:8080/"
        },
        "id": "DR6UuniIIhjc",
        "outputId": "be642be6-ed17-4afe-eaaa-8d9e903942cf"
      },
      "execution_count": null,
      "outputs": [
        {
          "output_type": "execute_result",
          "data": {
            "text/plain": [
              "16.0"
            ]
          },
          "metadata": {},
          "execution_count": 17
        }
      ]
    },
    {
      "cell_type": "code",
      "source": [
        "\n",
        "data=data/16"
      ],
      "metadata": {
        "id": "HM3lbqXvIjKG"
      },
      "execution_count": null,
      "outputs": []
    },
    {
      "cell_type": "code",
      "source": [
        "\n",
        "data.min()"
      ],
      "metadata": {
        "colab": {
          "base_uri": "https://localhost:8080/"
        },
        "id": "XQtghWM6Ild4",
        "outputId": "528c36aa-0931-42c5-e246-85182e65c406"
      },
      "execution_count": null,
      "outputs": [
        {
          "output_type": "execute_result",
          "data": {
            "text/plain": [
              "0.0"
            ]
          },
          "metadata": {},
          "execution_count": 19
        }
      ]
    },
    {
      "cell_type": "code",
      "source": [
        "\n",
        "data.max()"
      ],
      "metadata": {
        "colab": {
          "base_uri": "https://localhost:8080/"
        },
        "id": "bY7JBVNUIn1J",
        "outputId": "374af984-5e0d-4d8d-93eb-2aa333c1ae3e"
      },
      "execution_count": null,
      "outputs": [
        {
          "output_type": "execute_result",
          "data": {
            "text/plain": [
              "1.0"
            ]
          },
          "metadata": {},
          "execution_count": 20
        }
      ]
    },
    {
      "cell_type": "code",
      "source": [
        "data[0]"
      ],
      "metadata": {
        "colab": {
          "base_uri": "https://localhost:8080/"
        },
        "id": "18JoR11vIqgZ",
        "outputId": "281c256e-3138-442c-dca6-c45dc1e91302"
      },
      "execution_count": null,
      "outputs": [
        {
          "output_type": "execute_result",
          "data": {
            "text/plain": [
              "array([0.    , 0.    , 0.3125, 0.8125, 0.5625, 0.0625, 0.    , 0.    ,\n",
              "       0.    , 0.    , 0.8125, 0.9375, 0.625 , 0.9375, 0.3125, 0.    ,\n",
              "       0.    , 0.1875, 0.9375, 0.125 , 0.    , 0.6875, 0.5   , 0.    ,\n",
              "       0.    , 0.25  , 0.75  , 0.    , 0.    , 0.5   , 0.5   , 0.    ,\n",
              "       0.    , 0.3125, 0.5   , 0.    , 0.    , 0.5625, 0.5   , 0.    ,\n",
              "       0.    , 0.25  , 0.6875, 0.    , 0.0625, 0.75  , 0.4375, 0.    ,\n",
              "       0.    , 0.125 , 0.875 , 0.3125, 0.625 , 0.75  , 0.    , 0.    ,\n",
              "       0.    , 0.    , 0.375 , 0.8125, 0.625 , 0.    , 0.    , 0.    ])"
            ]
          },
          "metadata": {},
          "execution_count": 22
        }
      ]
    },
    {
      "cell_type": "markdown",
      "source": [
        "**Train Test_split**"
      ],
      "metadata": {
        "id": "6A54D1h2KGef"
      }
    },
    {
      "cell_type": "code",
      "source": [
        "from sklearn.model_selection import train_test_split\n",
        "X_train,X_test,y_train,y_test=train_test_split(data,df.target,test_size=0.3)\n",
        "X_train.shape,X_test.shape,y_train.shape,y_test.shape"
      ],
      "metadata": {
        "colab": {
          "base_uri": "https://localhost:8080/"
        },
        "id": "9_UsT5lhIvpE",
        "outputId": "33ab6503-11dc-4e79-896b-ca1c3630be63"
      },
      "execution_count": null,
      "outputs": [
        {
          "output_type": "execute_result",
          "data": {
            "text/plain": [
              "((1257, 64), (540, 64), (1257,), (540,))"
            ]
          },
          "metadata": {},
          "execution_count": 23
        }
      ]
    },
    {
      "cell_type": "markdown",
      "source": [
        "**Random Forest Model**"
      ],
      "metadata": {
        "id": "5xWDObw3KWf-"
      }
    },
    {
      "cell_type": "code",
      "source": [
        "from sklearn.ensemble import RandomForestClassifier\n",
        "\n",
        "\n",
        "rf=RandomForestClassifier()\n",
        "\n",
        "\n",
        "rf.fit(X_train,y_train)\n"
      ],
      "metadata": {
        "colab": {
          "base_uri": "https://localhost:8080/",
          "height": 74
        },
        "id": "E66YfMrgI21t",
        "outputId": "889f4f7b-7c62-465c-8cb4-e590a0f80717"
      },
      "execution_count": null,
      "outputs": [
        {
          "output_type": "execute_result",
          "data": {
            "text/plain": [
              "RandomForestClassifier()"
            ],
            "text/html": [
              "<style>#sk-container-id-1 {color: black;}#sk-container-id-1 pre{padding: 0;}#sk-container-id-1 div.sk-toggleable {background-color: white;}#sk-container-id-1 label.sk-toggleable__label {cursor: pointer;display: block;width: 100%;margin-bottom: 0;padding: 0.3em;box-sizing: border-box;text-align: center;}#sk-container-id-1 label.sk-toggleable__label-arrow:before {content: \"▸\";float: left;margin-right: 0.25em;color: #696969;}#sk-container-id-1 label.sk-toggleable__label-arrow:hover:before {color: black;}#sk-container-id-1 div.sk-estimator:hover label.sk-toggleable__label-arrow:before {color: black;}#sk-container-id-1 div.sk-toggleable__content {max-height: 0;max-width: 0;overflow: hidden;text-align: left;background-color: #f0f8ff;}#sk-container-id-1 div.sk-toggleable__content pre {margin: 0.2em;color: black;border-radius: 0.25em;background-color: #f0f8ff;}#sk-container-id-1 input.sk-toggleable__control:checked~div.sk-toggleable__content {max-height: 200px;max-width: 100%;overflow: auto;}#sk-container-id-1 input.sk-toggleable__control:checked~label.sk-toggleable__label-arrow:before {content: \"▾\";}#sk-container-id-1 div.sk-estimator input.sk-toggleable__control:checked~label.sk-toggleable__label {background-color: #d4ebff;}#sk-container-id-1 div.sk-label input.sk-toggleable__control:checked~label.sk-toggleable__label {background-color: #d4ebff;}#sk-container-id-1 input.sk-hidden--visually {border: 0;clip: rect(1px 1px 1px 1px);clip: rect(1px, 1px, 1px, 1px);height: 1px;margin: -1px;overflow: hidden;padding: 0;position: absolute;width: 1px;}#sk-container-id-1 div.sk-estimator {font-family: monospace;background-color: #f0f8ff;border: 1px dotted black;border-radius: 0.25em;box-sizing: border-box;margin-bottom: 0.5em;}#sk-container-id-1 div.sk-estimator:hover {background-color: #d4ebff;}#sk-container-id-1 div.sk-parallel-item::after {content: \"\";width: 100%;border-bottom: 1px solid gray;flex-grow: 1;}#sk-container-id-1 div.sk-label:hover label.sk-toggleable__label {background-color: #d4ebff;}#sk-container-id-1 div.sk-serial::before {content: \"\";position: absolute;border-left: 1px solid gray;box-sizing: border-box;top: 0;bottom: 0;left: 50%;z-index: 0;}#sk-container-id-1 div.sk-serial {display: flex;flex-direction: column;align-items: center;background-color: white;padding-right: 0.2em;padding-left: 0.2em;position: relative;}#sk-container-id-1 div.sk-item {position: relative;z-index: 1;}#sk-container-id-1 div.sk-parallel {display: flex;align-items: stretch;justify-content: center;background-color: white;position: relative;}#sk-container-id-1 div.sk-item::before, #sk-container-id-1 div.sk-parallel-item::before {content: \"\";position: absolute;border-left: 1px solid gray;box-sizing: border-box;top: 0;bottom: 0;left: 50%;z-index: -1;}#sk-container-id-1 div.sk-parallel-item {display: flex;flex-direction: column;z-index: 1;position: relative;background-color: white;}#sk-container-id-1 div.sk-parallel-item:first-child::after {align-self: flex-end;width: 50%;}#sk-container-id-1 div.sk-parallel-item:last-child::after {align-self: flex-start;width: 50%;}#sk-container-id-1 div.sk-parallel-item:only-child::after {width: 0;}#sk-container-id-1 div.sk-dashed-wrapped {border: 1px dashed gray;margin: 0 0.4em 0.5em 0.4em;box-sizing: border-box;padding-bottom: 0.4em;background-color: white;}#sk-container-id-1 div.sk-label label {font-family: monospace;font-weight: bold;display: inline-block;line-height: 1.2em;}#sk-container-id-1 div.sk-label-container {text-align: center;}#sk-container-id-1 div.sk-container {/* jupyter's `normalize.less` sets `[hidden] { display: none; }` but bootstrap.min.css set `[hidden] { display: none !important; }` so we also need the `!important` here to be able to override the default hidden behavior on the sphinx rendered scikit-learn.org. See: https://github.com/scikit-learn/scikit-learn/issues/21755 */display: inline-block !important;position: relative;}#sk-container-id-1 div.sk-text-repr-fallback {display: none;}</style><div id=\"sk-container-id-1\" class=\"sk-top-container\"><div class=\"sk-text-repr-fallback\"><pre>RandomForestClassifier()</pre><b>In a Jupyter environment, please rerun this cell to show the HTML representation or trust the notebook. <br />On GitHub, the HTML representation is unable to render, please try loading this page with nbviewer.org.</b></div><div class=\"sk-container\" hidden><div class=\"sk-item\"><div class=\"sk-estimator sk-toggleable\"><input class=\"sk-toggleable__control sk-hidden--visually\" id=\"sk-estimator-id-1\" type=\"checkbox\" checked><label for=\"sk-estimator-id-1\" class=\"sk-toggleable__label sk-toggleable__label-arrow\">RandomForestClassifier</label><div class=\"sk-toggleable__content\"><pre>RandomForestClassifier()</pre></div></div></div></div></div>"
            ]
          },
          "metadata": {},
          "execution_count": 24
        }
      ]
    },
    {
      "cell_type": "markdown",
      "source": [
        "**Predict Test Data**"
      ],
      "metadata": {
        "id": "ywR14Wi1KfKj"
      }
    },
    {
      "cell_type": "code",
      "source": [
        "\n",
        "y_pred=rf.predict(X_test)\n",
        "\n",
        "\n",
        "y_pred\n"
      ],
      "metadata": {
        "colab": {
          "base_uri": "https://localhost:8080/"
        },
        "id": "XXhI6CllJAFJ",
        "outputId": "8d9eea9c-c01d-41a7-838c-a9048ab90fbb"
      },
      "execution_count": null,
      "outputs": [
        {
          "output_type": "execute_result",
          "data": {
            "text/plain": [
              "array([4, 0, 5, 3, 7, 4, 9, 1, 4, 9, 0, 4, 6, 3, 0, 3, 9, 2, 0, 6, 9, 3,\n",
              "       1, 8, 9, 2, 2, 3, 2, 3, 3, 6, 3, 4, 5, 1, 7, 5, 9, 9, 6, 1, 7, 0,\n",
              "       4, 5, 3, 6, 5, 4, 0, 4, 4, 2, 2, 8, 1, 0, 5, 0, 9, 3, 0, 0, 3, 7,\n",
              "       8, 3, 0, 1, 4, 2, 3, 0, 2, 6, 6, 2, 7, 9, 4, 1, 1, 6, 9, 7, 6, 8,\n",
              "       5, 9, 5, 9, 2, 4, 7, 5, 0, 4, 0, 2, 8, 5, 3, 7, 5, 7, 7, 4, 2, 9,\n",
              "       8, 7, 2, 9, 3, 2, 6, 8, 5, 9, 2, 0, 7, 4, 0, 0, 4, 1, 5, 6, 7, 5,\n",
              "       7, 5, 6, 3, 2, 7, 9, 2, 9, 5, 4, 1, 9, 0, 9, 6, 7, 7, 4, 3, 9, 9,\n",
              "       4, 5, 0, 8, 0, 4, 4, 6, 0, 4, 5, 8, 4, 0, 7, 8, 4, 7, 3, 2, 3, 4,\n",
              "       5, 9, 8, 6, 0, 7, 1, 1, 9, 9, 4, 2, 0, 0, 5, 1, 0, 4, 1, 0, 0, 7,\n",
              "       2, 4, 7, 7, 8, 2, 0, 5, 3, 3, 9, 7, 2, 9, 5, 9, 5, 3, 6, 9, 6, 2,\n",
              "       5, 6, 3, 4, 1, 9, 4, 1, 8, 3, 4, 6, 8, 5, 5, 6, 7, 6, 9, 5, 1, 4,\n",
              "       0, 0, 4, 8, 5, 1, 0, 7, 4, 1, 9, 4, 5, 7, 2, 3, 0, 8, 5, 4, 8, 4,\n",
              "       5, 1, 0, 6, 3, 8, 2, 0, 3, 8, 9, 5, 3, 3, 9, 7, 4, 9, 5, 5, 7, 8,\n",
              "       9, 3, 8, 3, 2, 6, 9, 3, 5, 8, 7, 6, 5, 2, 4, 6, 4, 7, 0, 0, 9, 5,\n",
              "       0, 0, 4, 4, 5, 0, 1, 6, 5, 0, 4, 5, 8, 5, 6, 2, 5, 9, 2, 9, 1, 8,\n",
              "       8, 6, 7, 6, 7, 8, 9, 0, 3, 9, 5, 0, 6, 9, 9, 8, 5, 1, 8, 1, 3, 9,\n",
              "       4, 3, 0, 2, 9, 2, 1, 0, 8, 0, 3, 7, 7, 5, 6, 2, 0, 9, 3, 3, 6, 1,\n",
              "       7, 0, 2, 4, 2, 9, 6, 8, 1, 9, 5, 9, 3, 3, 0, 2, 5, 3, 7, 6, 5, 8,\n",
              "       1, 1, 3, 5, 1, 6, 9, 6, 1, 2, 6, 3, 0, 8, 3, 5, 1, 1, 1, 1, 9, 5,\n",
              "       5, 7, 7, 8, 5, 6, 8, 1, 1, 5, 1, 1, 1, 4, 5, 7, 2, 2, 9, 6, 4, 6,\n",
              "       5, 3, 4, 0, 1, 0, 4, 5, 3, 8, 0, 3, 3, 1, 6, 5, 3, 1, 0, 8, 0, 9,\n",
              "       2, 2, 9, 4, 0, 6, 8, 5, 3, 2, 2, 6, 1, 2, 1, 9, 3, 1, 5, 8, 9, 9,\n",
              "       9, 1, 7, 9, 1, 6, 4, 5, 9, 2, 6, 8, 7, 8, 5, 7, 5, 0, 0, 0, 4, 9,\n",
              "       0, 8, 8, 6, 5, 5, 1, 0, 5, 2, 5, 9, 3, 6, 4, 0, 0, 6, 3, 7, 0, 2,\n",
              "       4, 2, 9, 1, 7, 4, 7, 5, 0, 3, 9, 0])"
            ]
          },
          "metadata": {},
          "execution_count": 25
        }
      ]
    },
    {
      "cell_type": "markdown",
      "source": [
        "**MOdel Accuracy**"
      ],
      "metadata": {
        "id": "e-9HJP66Kmmp"
      }
    },
    {
      "cell_type": "code",
      "source": [
        "\n",
        "from sklearn.metrics import confusion_matrix,classification_report\n",
        "\n",
        "\n",
        "confusion_matrix(y_test, y_pred)\n"
      ],
      "metadata": {
        "colab": {
          "base_uri": "https://localhost:8080/"
        },
        "id": "sHe6HSvJJCa_",
        "outputId": "1073ca87-951c-42f1-e375-3d32f2b31bb4"
      },
      "execution_count": null,
      "outputs": [
        {
          "output_type": "execute_result",
          "data": {
            "text/plain": [
              "array([[66,  0,  0,  0,  0,  0,  0,  0,  0,  0],\n",
              "       [ 0, 47,  0,  0,  0,  0,  0,  0,  0,  0],\n",
              "       [ 0,  0, 47,  0,  0,  0,  0,  0,  0,  0],\n",
              "       [ 0,  1,  0, 53,  0,  1,  0,  0,  1,  0],\n",
              "       [ 0,  0,  0,  0, 55,  0,  0,  0,  0,  0],\n",
              "       [ 0,  0,  0,  0,  0, 67,  0,  0,  0,  2],\n",
              "       [ 0,  0,  0,  0,  0,  0, 47,  0,  0,  0],\n",
              "       [ 0,  0,  0,  0,  0,  0,  0, 46,  0,  0],\n",
              "       [ 0,  1,  0,  0,  0,  0,  1,  0, 40,  0],\n",
              "       [ 0,  1,  0,  1,  0,  0,  0,  0,  1, 62]])"
            ]
          },
          "metadata": {},
          "execution_count": 26
        }
      ]
    },
    {
      "cell_type": "code",
      "source": [
        "\n",
        "\n",
        "print(classification_report(y_test,y_pred))"
      ],
      "metadata": {
        "colab": {
          "base_uri": "https://localhost:8080/"
        },
        "id": "QQk24NNrJQS3",
        "outputId": "cf31ad51-799e-4a83-b903-a2788c10f5a3"
      },
      "execution_count": null,
      "outputs": [
        {
          "output_type": "stream",
          "name": "stdout",
          "text": [
            "              precision    recall  f1-score   support\n",
            "\n",
            "           0       1.00      1.00      1.00        66\n",
            "           1       0.94      1.00      0.97        47\n",
            "           2       1.00      1.00      1.00        47\n",
            "           3       0.98      0.95      0.96        56\n",
            "           4       1.00      1.00      1.00        55\n",
            "           5       0.99      0.97      0.98        69\n",
            "           6       0.98      1.00      0.99        47\n",
            "           7       1.00      1.00      1.00        46\n",
            "           8       0.95      0.95      0.95        42\n",
            "           9       0.97      0.95      0.96        65\n",
            "\n",
            "    accuracy                           0.98       540\n",
            "   macro avg       0.98      0.98      0.98       540\n",
            "weighted avg       0.98      0.98      0.98       540\n",
            "\n"
          ]
        }
      ]
    }
  ],
  "metadata": {
    "colab": {
      "provenance": [],
      "authorship_tag": "ABX9TyO58Qzr7lPbtijZ3BE/hilj",
      "include_colab_link": true
    },
    "kernelspec": {
      "display_name": "Python 3",
      "name": "python3"
    },
    "language_info": {
      "name": "python"
    }
  },
  "nbformat": 4,
  "nbformat_minor": 0
}